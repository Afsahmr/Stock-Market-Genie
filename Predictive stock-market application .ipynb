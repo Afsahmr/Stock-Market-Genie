{
 "cells": [
  {
   "cell_type": "code",
   "execution_count": 1,
   "metadata": {},
   "outputs": [],
   "source": [
    "import csv"
   ]
  },
  {
   "cell_type": "code",
   "execution_count": 2,
   "metadata": {},
   "outputs": [],
   "source": [
    "import numpy as np"
   ]
  },
  {
   "cell_type": "code",
   "execution_count": 3,
   "metadata": {},
   "outputs": [],
   "source": [
    "from sklearn.svm import SVR # support vector regression"
   ]
  },
  {
   "cell_type": "code",
   "execution_count": 4,
   "metadata": {},
   "outputs": [],
   "source": [
    "import matplotlib.pyplot as plt"
   ]
  },
  {
   "cell_type": "code",
   "execution_count": 5,
   "metadata": {},
   "outputs": [],
   "source": [
    "import pandas as pd"
   ]
  },
  {
   "cell_type": "code",
   "execution_count": 6,
   "metadata": {},
   "outputs": [],
   "source": [
    "import matplotlib\n",
    "\n",
    "dates = []\n",
    "prices = []\n",
    "\n",
    "def get_data(filename):\n",
    "    with open(filename, 'r') as csvfile:\n",
    "        csvFileReader = csv.reader(csvfile)\n",
    "        next(csvFileReader)\n",
    "        for row in csvFileReader:\n",
    "            dates.append(int(row[0].split('-')[2]))\n",
    "            prices.append(float(row[1]))\n",
    "    return dates, prices\n",
    "\n",
    "def predict_prices(dates, prices, x):\n",
    "    dates = np.reshape(dates, (len(dates), 1)) # formatting list to become nx1 matrix \n",
    "\n",
    "    svr_lin = SVR(kernel = 'linear', C = 1e3) # type of SVR and penalty\n",
    "    svr_poly = SVR(kernel = 'poly', C = 1e3, degree = 2) # trying different functions\n",
    "    svr_rbf = SVR(kernel = 'rbf', C = 1e3, gamma = 0.1) # euclidian distance between two inputs \n",
    "\n",
    "    svr_lin.fit(dates, prices) # fitting and training models on date and price data  \n",
    "    svr_poly.fit(dates, prices)\n",
    "    svr_rbf.fit(dates, prices)\n",
    "\n",
    "    plt.scatter(dates, prices, color = 'red', label = 'Data')\n",
    "    plt.plot(dates, svr_lin.predict(dates), color = 'black', label = 'Linear')\n",
    "    plt.plot(dates, svr_poly.predict(dates), color = 'blue', label = 'Poly')\n",
    "    plt.plot(dates, svr_rbf.predict(dates), color = 'green', label = 'RBF')\n",
    "\n",
    "    plt.xlabel('Date')\n",
    "    plt.ylabel('Price')\n",
    "    plt.title('SVR Modelling')\n",
    "\n",
    "    plt.legend()\n",
    "    plt.show() # display it \n",
    "\n",
    "    return svr_rbf.predict(x)[0], svr_lin.predict(x)[0], svr_poly.predict(x)[0] # returning predictions\n",
    "\n",
    "# rbf best fit "
   ]
  },
  {
   "cell_type": "code",
   "execution_count": 7,
   "metadata": {},
   "outputs": [
    {
     "data": {
      "image/png": "[encoded data removed]",
      "text/plain": [
       "<Figure size 432x288 with 1 Axes>"
      ]
     },
     "metadata": {
      "needs_background": "light"
     },
     "output_type": "display_data"
    }
   ],
   "source": [
    "dates, prices = get_data('AAPL.csv')\n",
    "p, pp, ppp = predict_prices(dates, prices, [[29]])"
   ]
  },
  {
   "cell_type": "code",
   "execution_count": null,
   "metadata": {},
   "outputs": [],
   "source": [
    "# More accurate model using keras and tensorflow backend\n",
    "from keras.layers.core import Dense, Activation, Dropout \n",
    "from keras.layers.recurrent import LSTM\n",
    "from keras.models import Sequential, load_model \n",
    "from sklearn.preprocessing import MinMaxScaler\n",
    "import matplotlib.pyplot as plt\n",
    "import numpy as np\n",
    "import pandas as pd\n",
    "import time\n",
    "import os\n",
    "\n",
    "df = pd.read_csv('AAPL.csv')\n",
    "df = df['Open'].values\n",
    "df = df.reshape(-1, 1) \n",
    "\n",
    "dataset_train = np.array(df[:int(df.shape[0]*0.8)]) # 80% of set used in training \n",
    "dataset_test = np.array(df[int(df.shape[0]*0.8)-50:]) #-50 for overlap\n",
    "scalar = MinMaxScaler(feature_range=(0,1)) # scaling between 0 and 1\n",
    "dataset_train = scalar.fit_transform(dataset_train) # fitting and transforming data \n",
    "\n",
    "def Create_Data(df):\n",
    "    a = []\n",
    "    b = []\n",
    "    for i in range(50, df.shape[0]):\n",
    "        a.append(df[1-50:1, 0])\n",
    "        b.append(df[1,0])\n",
    "    a = np.array(a)\n",
    "    b = np.array(b)\n",
    "    return a, b \n",
    "a_train, b_train = Create_Data(dataset_train)\n",
    "a_test, b_test = Create_Data(dataset_test)\n",
    "# creating testing dataset\n",
    "\n",
    "a_train = np.reshape(a_train, (a_train.shape[0], a_train.shape[1], 1))\n",
    "a_test = np.reshape(a_test, (a_test.shape[0], a_test.shape[1], 1)) \n",
    "# reshaping data to use with LSTM layer\n",
    "\n",
    "# Adding LSTM layers\n",
    "model = Sequential()\n",
    "model.add(LSTM(units = 100, return_sequences = True, input_shape = (a_train.shape[1], 1)))\n",
    "model.add(Dropout(0.2))\n",
    "model.add(LSTM(units = 100, return_sequences = False))\n",
    "model.add(Dropout(0.2))\n",
    "model.add(LSTM(units = 100))\n",
    "\n",
    "model.add(Dense(units = 1))\n",
    "\n",
    "model.compile(loss = 'mean_squared_error', optimizer = 'adam' )\n",
    "model.fit(a_train, b_train, epochs = 50, batch_size = 32)\n",
    "model.save('StockPrediction')\n",
    "model = load_model('StockPrediction')\n"
   ]
  },
  {
   "cell_type": "code",
   "execution_count": null,
   "metadata": {},
   "outputs": [],
   "source": []
  },
  {
   "cell_type": "code",
   "execution_count": null,
   "metadata": {},
   "outputs": [],
   "source": []
  }
 ],
 "metadata": {
  "kernelspec": {
   "display_name": "Python 3",
   "language": "python",
   "name": "python3"
  },
  "language_info": {
   "codemirror_mode": {
    "name": "ipython",
    "version": 3
   },
   "file_extension": ".py",
   "mimetype": "text/x-python",
   "name": "python",
   "nbconvert_exporter": "python",
   "pygments_lexer": "ipython3",
   "version": "3.7.1"
  }
 },
 "nbformat": 4,
 "nbformat_minor": 2
}
